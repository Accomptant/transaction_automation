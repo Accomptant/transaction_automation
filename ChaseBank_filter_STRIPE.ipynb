{
  "nbformat": 4,
  "nbformat_minor": 0,
  "metadata": {
    "colab": {
      "provenance": []
    },
    "kernelspec": {
      "name": "python3",
      "display_name": "Python 3"
    },
    "language_info": {
      "name": "python"
    }
  },
  "cells": [
    {
      "cell_type": "code",
      "source": [
        "from google.colab import drive\n",
        "drive.mount('/content/drive')"
      ],
      "metadata": {
        "colab": {
          "base_uri": "https://localhost:8080/"
        },
        "id": "9lCMSIAFsYnl",
        "outputId": "bfc1a14d-2bd6-4c31-9afb-72c79ef71fca"
      },
      "execution_count": 4,
      "outputs": [
        {
          "output_type": "stream",
          "name": "stdout",
          "text": [
            "Drive already mounted at /content/drive; to attempt to forcibly remount, call drive.mount(\"/content/drive\", force_remount=True).\n"
          ]
        }
      ]
    },
    {
      "cell_type": "code",
      "source": [
        "import pandas as pd \n",
        "import re\n",
        "import os\n",
        "\n",
        "def bk_keyword_ChaseBankStatement(input_file_path, output_file_path, keyword):\n",
        "    for file in os.listdir(input_file_path):\n",
        "        data = pd.read_csv(os.path.join(input_file_path, file))\n",
        "        data['DESCRIPTION_delim'] = data['DESCRIPTION'].apply(lambda x: re.split('[: ]', x))\n",
        "        output_data = data.loc[data['DESCRIPTION_delim'].apply(lambda x: keyword in x), \n",
        "                               ['DATE', 'DESCRIPTION', 'RECEIVED']]\n",
        "        output_data.to_csv(os.path.join(output_file_path, file), index = False)\n",
        "\n"
      ],
      "metadata": {
        "id": "-ldWCSHtsdVP"
      },
      "execution_count": 5,
      "outputs": []
    },
    {
      "cell_type": "code",
      "source": [
        "bk_keyword_ChaseBankStatement('/content/drive/My Drive/Chase_Bank', '/content/drive/My Drive/Chase_Bank_output', 'STRIPE')"
      ],
      "metadata": {
        "id": "yzriw2CQtETV"
      },
      "execution_count": 6,
      "outputs": []
    },
    {
      "cell_type": "code",
      "source": [],
      "metadata": {
        "id": "CUspDK6_tFyz"
      },
      "execution_count": null,
      "outputs": []
    },
    {
      "cell_type": "code",
      "source": [],
      "metadata": {
        "id": "RKnjqpfQwDBk"
      },
      "execution_count": null,
      "outputs": []
    }
  ]
}